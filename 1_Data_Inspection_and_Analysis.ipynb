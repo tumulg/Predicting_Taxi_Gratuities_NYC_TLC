{
 "cells": [
  {
   "cell_type": "code",
   "execution_count": 1,
   "metadata": {},
   "outputs": [],
   "source": [
    "#IMPORTING PACKAGES\n",
    "import pandas as pd\n",
    "import numpy as np\n",
    "import os"
   ]
  },
  {
   "cell_type": "code",
   "execution_count": 2,
   "metadata": {},
   "outputs": [],
   "source": [
    "#Getting the path and importing the dataset\n",
    "get_cwd = os.getcwd()\n",
    "df = pd.read_csv(os.path.join(get_cwd, 'Dataset') + '/2017_Yellow_Taxi_Trip_Data.csv')"
   ]
  },
  {
   "cell_type": "code",
   "execution_count": null,
   "metadata": {},
   "outputs": [],
   "source": [
    "df.head()"
   ]
  },
  {
   "cell_type": "code",
   "execution_count": null,
   "metadata": {},
   "outputs": [],
   "source": [
    "df.info()"
   ]
  },
  {
   "cell_type": "code",
   "execution_count": null,
   "metadata": {},
   "outputs": [],
   "source": [
    "df.describe()"
   ]
  },
  {
   "cell_type": "code",
   "execution_count": null,
   "metadata": {},
   "outputs": [],
   "source": [
    "#Understanding the data.\n",
    "#Investing the variables.\n",
    "\n",
    "#Sorting the data by trip distance from maximum to minimum value\n",
    "df_sort = df.sort_values(by=['trip_distance'], ascending=False)\n",
    "df_sort.head(10)"
   ]
  },
  {
   "cell_type": "code",
   "execution_count": null,
   "metadata": {},
   "outputs": [],
   "source": [
    "#Sort the data by total amount and print the top 20 values\n",
    "total_amount_sorted = df.sort_values(by=['total_amount'], ascending=False)['total_amount']\n",
    "total_amount_sorted.head(20)"
   ]
  },
  {
   "cell_type": "code",
   "execution_count": null,
   "metadata": {},
   "outputs": [],
   "source": [
    "#Sort the data by total amount and print the bottom 20 values\n",
    "total_amount_sorted.tail(20)"
   ]
  },
  {
   "cell_type": "code",
   "execution_count": null,
   "metadata": {},
   "outputs": [],
   "source": [
    "#How many of each payment type are represented in the data?\n",
    "df['payment_type'].value_counts()"
   ]
  },
  {
   "cell_type": "code",
   "execution_count": null,
   "metadata": {},
   "outputs": [],
   "source": [
    "#Average tip for trips paid for with credit card\n",
    "avg_cc_tip = df[df['payment_type'] == 1]['tip_amount'].mean()\n",
    "print('Avg. cc tip:', avg_cc_tip)"
   ]
  },
  {
   "cell_type": "code",
   "execution_count": null,
   "metadata": {},
   "outputs": [],
   "source": [
    "#Average tip for trips paid for with cash\n",
    "avg_cash_tip = df[df['payment_type'] == 2]['tip_amount'].mean()\n",
    "print('Avg. cash tip:', avg_cash_tip)"
   ]
  },
  {
   "cell_type": "code",
   "execution_count": null,
   "metadata": {},
   "outputs": [],
   "source": [
    "#How many times is each vendor ID represented in the data?\n",
    "df.groupby(['VendorID']).mean(numeric_only=True)[['total_amount']]"
   ]
  },
  {
   "cell_type": "code",
   "execution_count": null,
   "metadata": {},
   "outputs": [],
   "source": [
    "#Filter the data for credit card payments only\n",
    "credit_card_df = df[df['payment_type'] == 1]\n",
    "\n",
    "#Passenger count for credit card payments only\n",
    "credit_card_df['passenger_count'].value_counts()"
   ]
  },
  {
   "cell_type": "code",
   "execution_count": null,
   "metadata": {},
   "outputs": [],
   "source": [
    "#Calculate the average tip amount for each passenger count (credit card payments only)\n",
    "credit_card_df.groupby(['passenger_count']).mean(numeric_only=True)[['tip_amount']]"
   ]
  }
 ],
 "metadata": {
  "kernelspec": {
   "display_name": "minimal_ds",
   "language": "python",
   "name": "python3"
  },
  "language_info": {
   "codemirror_mode": {
    "name": "ipython",
    "version": 3
   },
   "file_extension": ".py",
   "mimetype": "text/x-python",
   "name": "python",
   "nbconvert_exporter": "python",
   "pygments_lexer": "ipython3",
   "version": "3.12.5"
  }
 },
 "nbformat": 4,
 "nbformat_minor": 2
}
